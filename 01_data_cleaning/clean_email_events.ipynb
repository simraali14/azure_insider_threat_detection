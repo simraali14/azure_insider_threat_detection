{
  "nbformat": 4,
  "nbformat_minor": 2,
  "metadata": {
    "kernelspec": {
      "name": "synapse_pyspark",
      "display_name": "Synapse PySpark"
    },
    "language_info": {
      "name": "python"
    },
    "description": null,
    "save_output": true,
    "synapse_widget": {
      "version": "0.1",
      "state": {}
    }
  },
  "cells": [
    {
      "cell_type": "code",
      "execution_count": 2,
      "outputs": [
        {
          "output_type": "display_data",
          "data": {
            "application/vnd.livy.statement-meta+json": {
              "spark_pool": "cybersparkpool",
              "statement_id": 3,
              "statement_ids": [
                3
              ],
              "state": "finished",
              "livy_statement_state": "available",
              "spark_jobs": null,
              "session_id": "33",
              "normalized_state": "finished",
              "queued_time": "2025-07-09T15:02:47.6580556Z",
              "session_start_time": null,
              "execution_start_time": "2025-07-09T15:02:47.6590847Z",
              "execution_finish_time": "2025-07-09T15:09:29.2875837Z",
              "parent_msg_id": "7a4e9a7e-2fc4-429c-afbf-2742c5ed92fb"
            },
            "text/plain": "StatementMeta(cybersparkpool, 33, 3, Finished, Available, Finished)"
          },
          "metadata": {}
        }
      ],
      "metadata": {},
      "source": [
        "from pyspark.sql.functions import to_timestamp, col\n",
        "\n",
        "# Load the CSV file with header\n",
        "file_path = \"abfss://cyber-filesystem@cyberdatastore.dfs.core.windows.net/email.csv\"\n",
        "df = spark.read.option(\"header\", \"true\").csv(file_path)\n",
        "\n",
        "# Clean column names\n",
        "df = df.select([col(c).alias(c.strip()) for c in df.columns if c.strip() != \"\"])\n",
        "\n",
        "# date to timestamp\n",
        "df = df.withColumn(\"date\", to_timestamp(\"date\", \"MM/dd/yyyy HH:mm:ss\"))\n",
        "\n",
        "# int variables\n",
        "df = df.withColumn(\"size\", col(\"size\").cast(\"int\")) \\\n",
        "        .withColumn(\"attachments\", col(\"attachments\").cast(\"int\"))\n",
        "\n",
        "# Drop rows with nulls in critical fields\n",
        "df_clean = df.dropna(subset=[\"date\", \"user\", \"pc\", \"from\",\"to\"])\n",
        "\n",
        "# Save cleaned date\n",
        "df_clean.write.mode(\"overwrite\").saveAsTable(\"clean_email_events\")"
      ]
    }
  ]
}