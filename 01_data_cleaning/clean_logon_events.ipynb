{
  "nbformat": 4,
  "nbformat_minor": 2,
  "metadata": {
    "language_info": {
      "name": "python"
    },
    "kernelspec": {
      "name": "synapse_pyspark",
      "display_name": "python"
    },
    "description": null,
    "save_output": true,
    "synapse_widget": {
      "version": "0.1",
      "state": {}
    }
  },
  "cells": [
    {
      "cell_type": "code",
      "execution_count": 2,
      "outputs": [
        {
          "output_type": "display_data",
          "data": {
            "application/vnd.livy.statement-meta+json": {
              "spark_pool": "cybersparkpool",
              "statement_id": 3,
              "statement_ids": [
                3
              ],
              "state": "finished",
              "livy_statement_state": "available",
              "spark_jobs": null,
              "session_id": "3",
              "normalized_state": "finished",
              "queued_time": "2025-06-30T04:05:41.5722463Z",
              "session_start_time": null,
              "execution_start_time": "2025-06-30T04:05:41.5734318Z",
              "execution_finish_time": "2025-06-30T04:05:46.828624Z",
              "parent_msg_id": "5c2380af-d652-438f-90bc-b00a88f0d489"
            },
            "text/plain": "StatementMeta(cybersparkpool, 3, 3, Finished, Available, Finished)"
          },
          "metadata": {}
        }
      ],
      "metadata": {},
      "source": [
        "from pyspark.sql.functions import to_timestamp, col\n",
        "\n",
        "# Load the CSV file with header\n",
        "file_path = \"abfss://cyber-filesystem@cyberdatastore.dfs.core.windows.net/logon.csv\"\n",
        "df = spark.read.option(\"header\", \"true\").csv(file_path)\n",
        "\n",
        "# Clean column names\n",
        "df = df.select([col(c).alias(c.strip()) for c in df.columns if c.strip() != \"\"])\n",
        "\n",
        "# date to timestamp\n",
        "df = df.withColumn(\"date\", to_timestamp(\"date\", \"MM/dd/yyyy HH:mm:ss\"))\n",
        "\n",
        "# Drop rows with nulls in critical fields\n",
        "df_clean = df.dropna(subset=[\"date\", \"user\", \"pc\", \"activity\"])\n",
        "\n",
        "# Save cleaned date\n",
        "df_clean.write.mode(\"overwrite\").saveAsTable(\"clean_logon_events\")"
      ]
    }
  ]
}