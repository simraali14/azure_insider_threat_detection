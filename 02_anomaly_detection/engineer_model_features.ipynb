{
  "cells": [
    {
      "cell_type": "markdown",
      "source": [
        "## engineer_model_features\n",
        "\n",
        "This notebook extracts user behavior features from five types of activity logs (device, email, file, HTTP, and logon) to support insider threat detection using an anomaly detection model (see: investigate_anomalies.ipynb).\n",
        "\n",
        "#### 🧠 Feature Engineering Strategy\n",
        "\n",
        "**Temporal windowing approach to capture behavioral shifts:** \n",
        "* 7-day recent window: Captures user behavior in the 7 days leading up to their last recorded event. This reflects short-term activity and is crucial for detecting pre-departure anomalies.\n",
        "* 30-day baseline window: Captures typical user behavior in the 30 days prior to the recent window. This helps establish a personalized behavioral norm.\n",
        "\n",
        "This strategy enables us to detect deviations from a user's baseline — a key signal for insider threats, especially for users who may engage in risky actions shortly before exiting the organization.\n",
        "\n",
        "#### 🛠️ Features Include:\n",
        "* **Volume metrics:** email_sent_count, logon_count, http_request_count, etc\n",
        "* **Behavioral flags:** after_hours_logon, after_hours_file_access, to_external_email_count, etc\n",
        "* **Uniqueness metrics:** unique_files_count, unique_url_count, etc\n",
        "* **Spike ratios**: compare recent vs. baseline activity to quantify unusual surges (ex. logon_spike_ratio, file_access_spike_ratio)\n",
        "\n",
        "This combination of temporal and behavioral features helps the model differentiate between normal variation and potential insider threats.\n",
        "\n",
        "---\n"
      ],
      "metadata": {
        "nteract": {
          "transient": {
            "deleting": false
          }
        }
      }
    },
    {
      "cell_type": "code",
      "source": [
        "from pyspark.sql import functions as F\n",
        "from pyspark.sql.window import Window\n",
        "from functools import reduce"
      ],
      "outputs": [
        {
          "output_type": "display_data",
          "data": {
            "application/vnd.livy.statement-meta+json": {
              "spark_pool": "cybersparkpool",
              "statement_id": 2,
              "statement_ids": [
                2
              ],
              "state": "finished",
              "livy_statement_state": "available",
              "spark_jobs": null,
              "session_id": "29",
              "normalized_state": "finished",
              "queued_time": "2025-07-08T22:27:13.6183286Z",
              "session_start_time": "2025-07-08T22:27:13.6194552Z",
              "execution_start_time": "2025-07-08T22:28:34.9713232Z",
              "execution_finish_time": "2025-07-08T22:28:35.1908874Z",
              "parent_msg_id": "e2932a01-eee0-48fa-a729-24e3e1df09d9"
            },
            "text/plain": "StatementMeta(cybersparkpool, 29, 2, Finished, Available, Finished)"
          },
          "metadata": {}
        }
      ],
      "execution_count": 1,
      "metadata": {}
    },
    {
      "cell_type": "code",
      "source": [
        "# set up\n",
        "WORK_HOURS_START = 6\n",
        "WORK_HOURS_END = 18\n",
        "is_after_hours = (F.hour(\"date\") < WORK_HOURS_START) | (F.hour(\"date\") >= WORK_HOURS_END)\n",
        "is_weekend = F.dayofweek(\"date\").isin([1,7])"
      ],
      "outputs": [
        {
          "output_type": "display_data",
          "data": {
            "application/vnd.livy.statement-meta+json": {
              "spark_pool": "cybersparkpool",
              "statement_id": 3,
              "statement_ids": [
                3
              ],
              "state": "finished",
              "livy_statement_state": "available",
              "spark_jobs": null,
              "session_id": "29",
              "normalized_state": "finished",
              "queued_time": "2025-07-08T22:27:13.6190271Z",
              "session_start_time": null,
              "execution_start_time": "2025-07-08T22:28:35.2258751Z",
              "execution_finish_time": "2025-07-08T22:28:35.4232211Z",
              "parent_msg_id": "aa66b95d-855b-4332-bc7b-96591e00c1d4"
            },
            "text/plain": "StatementMeta(cybersparkpool, 29, 3, Finished, Available, Finished)"
          },
          "metadata": {}
        }
      ],
      "execution_count": 2,
      "metadata": {}
    },
    {
      "cell_type": "code",
      "source": [
        "# Load datasets\n",
        "device_df = spark.read.table(\"clean_device_events\")\n",
        "email_df = spark.read.table(\"clean_email_events\")\n",
        "file_df = spark.read.table(\"clean_file_events\")\n",
        "http_df = spark.read.table(\"clean_http_events\")\n",
        "logon_df = spark.read.table(\"clean_logon_events\")"
      ],
      "outputs": [
        {
          "output_type": "display_data",
          "data": {
            "application/vnd.livy.statement-meta+json": {
              "spark_pool": "cybersparkpool",
              "statement_id": 5,
              "statement_ids": [
                5
              ],
              "state": "finished",
              "livy_statement_state": "available",
              "spark_jobs": null,
              "session_id": "29",
              "normalized_state": "finished",
              "queued_time": "2025-07-08T22:27:13.6204035Z",
              "session_start_time": null,
              "execution_start_time": "2025-07-08T22:28:35.6410984Z",
              "execution_finish_time": "2025-07-08T22:28:43.3030838Z",
              "parent_msg_id": "b3047f48-96cc-4113-8b15-329de022a035"
            },
            "text/plain": "StatementMeta(cybersparkpool, 29, 5, Finished, Available, Finished)"
          },
          "metadata": {}
        }
      ],
      "execution_count": 4,
      "metadata": {}
    },
    {
      "cell_type": "code",
      "source": [
        "# Combine all events and determine users first and last activity date\n",
        "all_events = device_df.select(\"user\",\"date\") \\\n",
        "            .union(email_df.select(\"user\",\"date\")) \\\n",
        "            .union(file_df.select(\"user\",\"date\")) \\\n",
        "            .union(http_df.select(\"user\",\"date\")) \\\n",
        "            .union(logon_df.select(\"user\",\"date\")) \n",
        "\n",
        "user_activity_window = all_events.groupBy(\"user\").agg(\n",
        "    F.min(\"date\").alias(\"first_seen\"),\n",
        "    F.max(\"date\").alias(\"last_seen\")\n",
        ")"
      ],
      "outputs": [
        {
          "output_type": "display_data",
          "data": {
            "application/vnd.livy.statement-meta+json": {
              "spark_pool": "cybersparkpool",
              "statement_id": 6,
              "statement_ids": [
                6
              ],
              "state": "finished",
              "livy_statement_state": "available",
              "spark_jobs": null,
              "session_id": "29",
              "normalized_state": "finished",
              "queued_time": "2025-07-08T22:27:13.6210133Z",
              "session_start_time": null,
              "execution_start_time": "2025-07-08T22:28:43.3166408Z",
              "execution_finish_time": "2025-07-08T22:28:43.9070851Z",
              "parent_msg_id": "71d86f5d-85b0-45fe-812f-a6a1f2a31750"
            },
            "text/plain": "StatementMeta(cybersparkpool, 29, 6, Finished, Available, Finished)"
          },
          "metadata": {}
        }
      ],
      "execution_count": 5,
      "metadata": {}
    },
    {
      "cell_type": "code",
      "source": [
        "# Define dynamic 7-day recent and 30-day baseline window per user\n",
        "# 7 day window - most recent 7 days of activity for that user (most recent activity)\n",
        "# 30 day window - 30 days prior to the 7 day window (baselines users activity) \n",
        "user_activity_window = all_events.groupBy(\"user\").agg(\n",
        "    F.min(\"date\").alias(\"first_seen\"),\n",
        "    F.max(\"date\").alias(\"last_seen\")\n",
        ")\n",
        "\n",
        "user_activity_window = user_activity_window.withColumn(\"7d_recent_window_start\", F.expr(\"last_seen - interval 7 days\")) \\\n",
        "                                    .withColumn(\"30d_baseline_window_end\", F.expr(\"7d_recent_window_start - interval 1 day\")) \\\n",
        "                                    .withColumn(\"30d_baseline_window_start\", F.expr(\"30d_baseline_window_end - interval 30 days\"))\n",
        "\n",
        "user_window_broadcast = F.broadcast(user_activity_window)"
      ],
      "outputs": [
        {
          "output_type": "display_data",
          "data": {
            "application/vnd.livy.statement-meta+json": {
              "spark_pool": "cybersparkpool",
              "statement_id": 7,
              "statement_ids": [
                7
              ],
              "state": "finished",
              "livy_statement_state": "available",
              "spark_jobs": null,
              "session_id": "29",
              "normalized_state": "finished",
              "queued_time": "2025-07-08T22:27:13.6216151Z",
              "session_start_time": null,
              "execution_start_time": "2025-07-08T22:28:43.9178075Z",
              "execution_finish_time": "2025-07-08T22:28:44.4740816Z",
              "parent_msg_id": "8f79ce67-b240-4bbb-84a1-9972fb8c42a3"
            },
            "text/plain": "StatementMeta(cybersparkpool, 29, 7, Finished, Available, Finished)"
          },
          "metadata": {}
        }
      ],
      "execution_count": 6,
      "metadata": {}
    },
    {
      "cell_type": "code",
      "source": [
        "def get_recent_and_baseline(df):\n",
        "    df = df.join(user_window_broadcast, on=\"user\")\n",
        "    recent_df = df.filter((F.col(\"date\") >= F.col(\"7d_recent_window_start\")) & (F.col(\"date\") <= F.col(\"last_seen\")))\n",
        "    baseline_df = df.filter((F.col(\"date\") >= F.col(\"30d_baseline_window_start\")) & (F.col(\"date\") <= F.col(\"30d_baseline_window_end\")))\n",
        "    return recent_df, baseline_df"
      ],
      "outputs": [
        {
          "output_type": "display_data",
          "data": {
            "application/vnd.livy.statement-meta+json": {
              "spark_pool": "cybersparkpool",
              "statement_id": 8,
              "statement_ids": [
                8
              ],
              "state": "finished",
              "livy_statement_state": "available",
              "spark_jobs": null,
              "session_id": "29",
              "normalized_state": "finished",
              "queued_time": "2025-07-08T22:27:13.6222041Z",
              "session_start_time": null,
              "execution_start_time": "2025-07-08T22:28:44.4884776Z",
              "execution_finish_time": "2025-07-08T22:28:44.6960973Z",
              "parent_msg_id": "9594d08c-22ae-4e1f-88f1-4e7b667b3782"
            },
            "text/plain": "StatementMeta(cybersparkpool, 29, 8, Finished, Available, Finished)"
          },
          "metadata": {}
        }
      ],
      "execution_count": 7,
      "metadata": {}
    },
    {
      "cell_type": "code",
      "source": [
        "# DEVICE FEATURES\n",
        "device_recent_df, device_baseline_df = get_recent_and_baseline(device_df)\n",
        "device_recent_df = device_recent_df.groupBy(\"user\").agg(F.count(\"*\").alias(\"recent_device_count\"))\n",
        "device_baseline_df = device_baseline_df.groupBy(\"user\").agg(F.count(\"*\").alias(\"baseline_device_count\"))"
      ],
      "outputs": [
        {
          "output_type": "display_data",
          "data": {
            "application/vnd.livy.statement-meta+json": {
              "spark_pool": "cybersparkpool",
              "statement_id": 9,
              "statement_ids": [
                9
              ],
              "state": "finished",
              "livy_statement_state": "available",
              "spark_jobs": null,
              "session_id": "29",
              "normalized_state": "finished",
              "queued_time": "2025-07-08T22:27:13.6227193Z",
              "session_start_time": null,
              "execution_start_time": "2025-07-08T22:28:44.7066162Z",
              "execution_finish_time": "2025-07-08T22:28:45.2895448Z",
              "parent_msg_id": "9766a286-477c-4ad2-87b6-e05decb063a5"
            },
            "text/plain": "StatementMeta(cybersparkpool, 29, 9, Finished, Available, Finished)"
          },
          "metadata": {}
        }
      ],
      "execution_count": 8,
      "metadata": {}
    },
    {
      "cell_type": "code",
      "source": [
        "# EMAIL FEATURES\n",
        "email_recent_df, email_baseline_df = get_recent_and_baseline(email_df)\n",
        "email_recent_df = email_recent_df.groupBy(\"user\").agg(\n",
        "        F.count(\"*\").alias(\"recent_email_sent_count\"),\n",
        "        F.avg(\"size\").alias(\"recent_avg_email_size\"),\n",
        "        F.avg(\"attachments\").alias(\"recent_avg_attachment_size\"),\n",
        "        F.count(F.when(~F.col(\"from\").rlike(\"@dtaa\\\\.com$\"), True)).alias(\"recent_from_external_count\"),\n",
        "        F.count(F.when(~F.col(\"to\").rlike(\"@dtaa\\\\.com$\"), True)).alias(\"recent_to_external_count\"),\n",
        ")\n",
        "\n",
        "email_baseline_df = email_baseline_df.groupBy(\"user\").agg(\n",
        "        F.count(\"*\").alias(\"baseline_email_sent_count\"),\n",
        "        F.avg(\"size\").alias(\"baseline_avg_email_size\"),\n",
        "        F.avg(\"attachments\").alias(\"baseline_avg_attachment_size\"),\n",
        "        F.count(F.when(~F.col(\"from\").rlike(\"@dtaa\\\\.com$\"), True)).alias(\"baseline_from_external_count\"),\n",
        "        F.count(F.when(~F.col(\"to\").rlike(\"@dtaa\\\\.com$\"), True)).alias(\"baseline_to_external_count\"),\n",
        ")"
      ],
      "outputs": [
        {
          "output_type": "display_data",
          "data": {
            "application/vnd.livy.statement-meta+json": {
              "spark_pool": "cybersparkpool",
              "statement_id": 10,
              "statement_ids": [
                10
              ],
              "state": "finished",
              "livy_statement_state": "available",
              "spark_jobs": null,
              "session_id": "29",
              "normalized_state": "finished",
              "queued_time": "2025-07-08T22:27:14.0005254Z",
              "session_start_time": null,
              "execution_start_time": "2025-07-08T22:28:45.3013003Z",
              "execution_finish_time": "2025-07-08T22:28:46.3639934Z",
              "parent_msg_id": "5580531a-f469-4f55-84a5-173f89d54dff"
            },
            "text/plain": "StatementMeta(cybersparkpool, 29, 10, Finished, Available, Finished)"
          },
          "metadata": {}
        }
      ],
      "execution_count": 9,
      "metadata": {}
    },
    {
      "cell_type": "code",
      "source": [
        "# FILE FEATURES\n",
        "file_recent_df, file_baseline_df = get_recent_and_baseline(file_df)\n",
        "file_recent_df = file_recent_df.groupBy(\"user\").agg(\n",
        "        F.count(\"*\").alias(\"recent_file_access_count\"),\n",
        "        F.countDistinct(\"filename\").alias(\"recent_unique_file_count\")\n",
        ")\n",
        "\n",
        "file_baseline_df = file_baseline_df.groupBy(\"user\").agg(\n",
        "        F.count(\"*\").alias(\"baseline_file_access_count\"),\n",
        "        F.countDistinct(\"filename\").alias(\"baseline_unique_file_count\")\n",
        ")"
      ],
      "outputs": [
        {
          "output_type": "display_data",
          "data": {
            "application/vnd.livy.statement-meta+json": {
              "spark_pool": "cybersparkpool",
              "statement_id": 11,
              "statement_ids": [
                11
              ],
              "state": "finished",
              "livy_statement_state": "available",
              "spark_jobs": null,
              "session_id": "29",
              "normalized_state": "finished",
              "queued_time": "2025-07-08T22:27:14.0478384Z",
              "session_start_time": null,
              "execution_start_time": "2025-07-08T22:28:46.376273Z",
              "execution_finish_time": "2025-07-08T22:28:46.5996757Z",
              "parent_msg_id": "313f0b69-d356-4baa-9c73-5ce1e24fab38"
            },
            "text/plain": "StatementMeta(cybersparkpool, 29, 11, Finished, Available, Finished)"
          },
          "metadata": {}
        }
      ],
      "execution_count": 10,
      "metadata": {}
    },
    {
      "cell_type": "code",
      "source": [
        "# HTTP FEATURES\n",
        "risky_keywords = [\"wikileaks\", \"keylogger\", \"malware\", \"malicious\",\"exploit\",\"leak\"]\n",
        "risky_pattern = \"|\".join(risky_keywords)\n",
        "\n",
        "http_recent_df, http_baseline_df = get_recent_and_baseline(http_df)\n",
        "http_recent_df = http_recent_df.groupBy(\"user\").agg(\n",
        "        F.count(\"*\").alias(\"recent_http_request_count\"),\n",
        "        F.countDistinct(\"url\").alias(\"recent_unique_url_count\"),\n",
        "        F.count(F.when(F.col(\"url\").rlike(risky_pattern), True)).alias(\"recent_risky_url_count\")\n",
        "\n",
        ")\n",
        "\n",
        "http_baseline_df = http_baseline_df.groupBy(\"user\").agg(\n",
        "        F.count(\"*\").alias(\"baseline_http_request_count\"),\n",
        "        F.countDistinct(\"url\").alias(\"baseline_unique_url_count\"),\n",
        "        F.count(F.when(F.col(\"url\").rlike(risky_pattern), True)).alias(\"baseline_risky_url_count\")\n",
        ")"
      ],
      "outputs": [
        {
          "output_type": "display_data",
          "data": {
            "application/vnd.livy.statement-meta+json": {
              "spark_pool": "cybersparkpool",
              "statement_id": 12,
              "statement_ids": [
                12
              ],
              "state": "finished",
              "livy_statement_state": "available",
              "spark_jobs": null,
              "session_id": "29",
              "normalized_state": "finished",
              "queued_time": "2025-07-08T22:27:14.106665Z",
              "session_start_time": null,
              "execution_start_time": "2025-07-08T22:28:46.6108196Z",
              "execution_finish_time": "2025-07-08T22:28:46.8201818Z",
              "parent_msg_id": "bd10ed4c-e274-4254-bc56-1591ef235224"
            },
            "text/plain": "StatementMeta(cybersparkpool, 29, 12, Finished, Available, Finished)"
          },
          "metadata": {}
        }
      ],
      "execution_count": 11,
      "metadata": {}
    },
    {
      "cell_type": "code",
      "source": [
        "# LOGON FEATURES\n",
        "logon_recent_df, logon_baseline_df = get_recent_and_baseline(logon_df)\n",
        "logon_recent_df = logon_recent_df.groupBy(\"user\").agg(\n",
        "        F.count(\"*\").alias(\"recent_logon_count\"),\n",
        "        F.sum(F.when(is_after_hours, 1).otherwise(0)).alias(\"recent_after_hours_logon\")\n",
        ")\n",
        "\n",
        "logon_baseline_df = logon_baseline_df.groupBy(\"user\").agg(\n",
        "        F.count(\"*\").alias(\"baseline_logon_count\"),\n",
        "        F.sum(F.when(is_after_hours, 1).otherwise(0)).alias(\"baseline_after_hours_logon\")\n",
        ")"
      ],
      "outputs": [
        {
          "output_type": "display_data",
          "data": {
            "application/vnd.livy.statement-meta+json": {
              "spark_pool": "cybersparkpool",
              "statement_id": 13,
              "statement_ids": [
                13
              ],
              "state": "finished",
              "livy_statement_state": "available",
              "spark_jobs": null,
              "session_id": "29",
              "normalized_state": "finished",
              "queued_time": "2025-07-08T22:27:14.1651223Z",
              "session_start_time": null,
              "execution_start_time": "2025-07-08T22:28:46.8318456Z",
              "execution_finish_time": "2025-07-08T22:28:47.0564321Z",
              "parent_msg_id": "22884a5c-19e6-4790-a594-ccc54171564e"
            },
            "text/plain": "StatementMeta(cybersparkpool, 29, 13, Finished, Available, Finished)"
          },
          "metadata": {}
        }
      ],
      "execution_count": 12,
      "metadata": {}
    },
    {
      "cell_type": "code",
      "source": [
        "# Join feature tables\n",
        "def join_all_dfs(dfs, join_col=\"user\"):\n",
        "    return reduce(lambda df1, df2: df1.join(df2, on=join_col, how=\"outer\"), dfs)\n",
        "\n",
        "final_features = join_all_dfs([\n",
        "    device_recent_df, device_baseline_df,\n",
        "    email_recent_df, email_baseline_df,\n",
        "    file_recent_df, file_baseline_df,\n",
        "    http_recent_df, http_baseline_df,\n",
        "    logon_recent_df, logon_baseline_df\n",
        "])"
      ],
      "outputs": [
        {
          "output_type": "display_data",
          "data": {
            "application/vnd.livy.statement-meta+json": {
              "spark_pool": "cybersparkpool",
              "statement_id": 14,
              "statement_ids": [
                14
              ],
              "state": "finished",
              "livy_statement_state": "available",
              "spark_jobs": null,
              "session_id": "29",
              "normalized_state": "finished",
              "queued_time": "2025-07-08T22:27:14.263332Z",
              "session_start_time": null,
              "execution_start_time": "2025-07-08T22:28:47.0679783Z",
              "execution_finish_time": "2025-07-08T22:28:47.6300516Z",
              "parent_msg_id": "96cfe345-89d5-49fc-9c73-432ff14e5b4c"
            },
            "text/plain": "StatementMeta(cybersparkpool, 29, 14, Finished, Available, Finished)"
          },
          "metadata": {}
        }
      ],
      "execution_count": 13,
      "metadata": {}
    },
    {
      "cell_type": "code",
      "source": [
        "final_features = final_features.withColumns({\n",
        "    \"device_spike_ratio\" : F.col(\"recent_device_count\") / (F.col(\"baseline_device_count\") + 1),\n",
        "    \"file_spike_ratio\" : F.col(\"recent_file_access_count\") / (F.col(\"baseline_file_access_count\") + 1),\n",
        "    \"email_spike_ratio\" : F.col(\"recent_email_sent_count\") / (F.col(\"baseline_email_sent_count\") + 1),\n",
        "    \"http_spike_ratio\" : F.col(\"recent_http_request_count\") / (F.col(\"baseline_http_request_count\") + 1),\n",
        "    \"logon_spike_ratio\" : F.col(\"recent_logon_count\") / (F.col(\"baseline_logon_count\") + 1)\n",
        "})"
      ],
      "outputs": [
        {
          "output_type": "display_data",
          "data": {
            "application/vnd.livy.statement-meta+json": {
              "spark_pool": "cybersparkpool",
              "statement_id": 15,
              "statement_ids": [
                15
              ],
              "state": "finished",
              "livy_statement_state": "available",
              "spark_jobs": null,
              "session_id": "29",
              "normalized_state": "finished",
              "queued_time": "2025-07-08T22:27:14.3402796Z",
              "session_start_time": null,
              "execution_start_time": "2025-07-08T22:28:47.6415193Z",
              "execution_finish_time": "2025-07-08T22:28:47.8486086Z",
              "parent_msg_id": "4075a803-1137-4a5d-a4a3-99847d1f52b9"
            },
            "text/plain": "StatementMeta(cybersparkpool, 29, 15, Finished, Available, Finished)"
          },
          "metadata": {}
        }
      ],
      "execution_count": 14,
      "metadata": {}
    },
    {
      "cell_type": "code",
      "source": [
        "final_features.write.mode(\"overwrite\").saveAsTable(\"model_features\")"
      ],
      "outputs": [
        {
          "output_type": "display_data",
          "data": {
            "application/vnd.livy.statement-meta+json": {
              "spark_pool": "cybersparkpool",
              "statement_id": 17,
              "statement_ids": [
                17
              ],
              "state": "finished",
              "livy_statement_state": "available",
              "spark_jobs": null,
              "session_id": "29",
              "normalized_state": "finished",
              "queued_time": "2025-07-08T22:27:14.4431083Z",
              "session_start_time": null,
              "execution_start_time": "2025-07-08T22:28:48.0914419Z",
              "execution_finish_time": "2025-07-08T22:29:32.2558215Z",
              "parent_msg_id": "c396f138-aadc-4b86-b556-f965df3f9b36"
            },
            "text/plain": "StatementMeta(cybersparkpool, 29, 17, Finished, Available, Finished)"
          },
          "metadata": {}
        }
      ],
      "execution_count": 16,
      "metadata": {}
    }
  ],
  "metadata": {
    "language_info": {
      "name": "python"
    },
    "kernelspec": {
      "name": "synapse_pyspark",
      "display_name": "python"
    },
    "description": null,
    "save_output": true,
    "synapse_widget": {
      "version": "0.1",
      "state": {}
    }
  },
  "nbformat": 4,
  "nbformat_minor": 2
}